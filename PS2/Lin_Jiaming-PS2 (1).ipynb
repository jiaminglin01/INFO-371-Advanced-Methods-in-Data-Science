{
 "cells": [
  {
   "cell_type": "markdown",
   "metadata": {},
   "source": [
    "# Problem Set 2, due February 1 at 11:59 pm\n",
    "\n",
    "###Before You Start\n",
    "\n",
    "Make sure the following libraries load correctly (hit Ctrl-Enter). Note that while you are loading several powerful libraries, including machine learning libraries, the goal of this problem set is to implement several algorithms from scratch. In particular, you should *not* be using any built-in libraries for nearest neighbors, distance metrics, or cross-validation -- your mission is to write those algorithms in Python! Parts 1 and 2 will be relatively easy; Part 3 will take more time.\n",
    "\n",
    "*Also note:* For this assignment we are requiring you to use base **matplotlib** - no more Seaborn or other packages. This will help you become familiar with techniques for maintaining fine-grained control over your data visualizations. It will also help our graders, who spent countless hours in the past trying to make various versions import for grading."
   ]
  },
  {
   "cell_type": "code",
   "execution_count": 1,
   "metadata": {},
   "outputs": [],
   "source": [
    "import IPython\n",
    "import numpy as np\n",
    "import scipy as sp\n",
    "import pandas as pd\n",
    "import matplotlib\n",
    "import sklearn"
   ]
  },
  {
   "cell_type": "markdown",
   "metadata": {},
   "source": [
    "---\n",
    "\n",
    "## Introduction to the assignment\n",
    "\n",
    "For this assignment, you will be using the Boston Housing Prices Data Set.  This used to be housed by [UCI Machine Learning Repository](http://archive.ics.uci.edu/ml/datasets/Housing), but it is not housed there any more. You can read about it at [Kaggle](https://www.kaggle.com/vikrishnan/boston-house-prices) and at the [University of Toronto](https://www.cs.toronto.edu/~delve/data/boston/bostonDetail.html). Please read about the dataset carefully before continuing.  Use the following commands to load the dataset:\n"
   ]
  },
  {
   "cell_type": "code",
   "execution_count": 2,
   "metadata": {},
   "outputs": [],
   "source": [
    "from sklearn.datasets import load_boston\n",
    "bdata = load_boston()"
   ]
  },
  {
   "cell_type": "markdown",
   "metadata": {},
   "source": [
    "The following commands will provide some basic information about the shape of the data:"
   ]
  },
  {
   "cell_type": "code",
   "execution_count": 3,
   "metadata": {},
   "outputs": [
    {
     "name": "stdout",
     "output_type": "stream",
     "text": [
      "dict_keys(['data', 'target', 'feature_names', 'DESCR', 'filename'])\n",
      "['CRIM' 'ZN' 'INDUS' 'CHAS' 'NOX' 'RM' 'AGE' 'DIS' 'RAD' 'TAX' 'PTRATIO'\n",
      " 'B' 'LSTAT']\n",
      "(506, 13)\n",
      "(506,)\n",
      ".. _boston_dataset:\n",
      "\n",
      "Boston house prices dataset\n",
      "---------------------------\n",
      "\n",
      "**Data Set Characteristics:**  \n",
      "\n",
      "    :Number of Instances: 506 \n",
      "\n",
      "    :Number of Attributes: 13 numeric/categorical predictive. Median Value (attribute 14) is usually the target.\n",
      "\n",
      "    :Attribute Information (in order):\n",
      "        - CRIM     per capita crime rate by town\n",
      "        - ZN       proportion of residential land zoned for lots over 25,000 sq.ft.\n",
      "        - INDUS    proportion of non-retail business acres per town\n",
      "        - CHAS     Charles River dummy variable (= 1 if tract bounds river; 0 otherwise)\n",
      "        - NOX      nitric oxides concentration (parts per 10 million)\n",
      "        - RM       average number of rooms per dwelling\n",
      "        - AGE      proportion of owner-occupied units built prior to 1940\n",
      "        - DIS      weighted distances to five Boston employment centres\n",
      "        - RAD      index of accessibility to radial highways\n",
      "        - TAX      full-value property-tax rate per $10,000\n",
      "        - PTRATIO  pupil-teacher ratio by town\n",
      "        - B        1000(Bk - 0.63)^2 where Bk is the proportion of blacks by town\n",
      "        - LSTAT    % lower status of the population\n",
      "        - MEDV     Median value of owner-occupied homes in $1000's\n",
      "\n",
      "    :Missing Attribute Values: None\n",
      "\n",
      "    :Creator: Harrison, D. and Rubinfeld, D.L.\n",
      "\n",
      "This is a copy of UCI ML housing dataset.\n",
      "https://archive.ics.uci.edu/ml/machine-learning-databases/housing/\n",
      "\n",
      "\n",
      "This dataset was taken from the StatLib library which is maintained at Carnegie Mellon University.\n",
      "\n",
      "The Boston house-price data of Harrison, D. and Rubinfeld, D.L. 'Hedonic\n",
      "prices and the demand for clean air', J. Environ. Economics & Management,\n",
      "vol.5, 81-102, 1978.   Used in Belsley, Kuh & Welsch, 'Regression diagnostics\n",
      "...', Wiley, 1980.   N.B. Various transformations are used in the table on\n",
      "pages 244-261 of the latter.\n",
      "\n",
      "The Boston house-price data has been used in many machine learning papers that address regression\n",
      "problems.   \n",
      "     \n",
      ".. topic:: References\n",
      "\n",
      "   - Belsley, Kuh & Welsch, 'Regression diagnostics: Identifying Influential Data and Sources of Collinearity', Wiley, 1980. 244-261.\n",
      "   - Quinlan,R. (1993). Combining Instance-Based and Model-Based Learning. In Proceedings on the Tenth International Conference of Machine Learning, 236-243, University of Massachusetts, Amherst. Morgan Kaufmann.\n",
      "\n"
     ]
    }
   ],
   "source": [
    "print(bdata.keys())\n",
    "print(bdata.feature_names)\n",
    "print(bdata.data.shape)\n",
    "print(bdata.target.shape)\n",
    "# uncomment the following if you want to see a lengthy description of the dataset\n",
    "print(bdata.DESCR)"
   ]
  },
  {
   "cell_type": "markdown",
   "metadata": {},
   "source": [
    "---\n",
    "\n",
    "## Part 1: Descriptive analysis\n",
    "\n",
    "Before beginning the \"real\" work, dig into the data a bit do see what you're dealing with.  If you feel that you are still in the beginning stages of analyzing data in Python, no problem. That is understandable. Just make sure to read some of the online resources like [this one](https://github.com/jrjohansson/scientific-python-lectures).\n",
    "\n",
    "### 1.1: Histogram of housing prices\n",
    "\n",
    "Below you will find some very basic code to make a very basic histogram of median housing prices (the \"target\" variable) for your dataset.  Your first task is to make this graph look pretty by doing the following:\n",
    "\n",
    "1. Add appropriate labels to the x and y axes, make sure to include units\n",
    "2. Change the bin width on the histogram to be $1000\n",
    "3. Remove the axes on the top and right side of the plot window\n",
    "4. Change the color of the bars to be green, and remove the black borders from the bars\n"
   ]
  },
  {
   "cell_type": "code",
   "execution_count": 4,
   "metadata": {},
   "outputs": [
    {
     "data": {
      "image/png": "[encoded data removed]",
      "text/plain": [
       "<Figure size 432x288 with 1 Axes>"
      ]
     },
     "metadata": {
      "needs_background": "light"
     },
     "output_type": "display_data"
    }
   ],
   "source": [
    "# prepare your jupyter notebook to work with matplotlib and import the library to something convenient\n",
    "%matplotlib inline  \n",
    "import matplotlib.pyplot as plt  \n",
    "\n",
    "# edit the code below to make the graph look good\n",
    "fig, ax = plt.subplots()\n",
    "ax.hist(bdata.target, bins = 40, color = \"green\", edgecolor = \"none\")\n",
    "ax.set_xlabel(\"prices($1000)\")\n",
    "ax.set_ylabel(\"frequency\")\n",
    "ax.spines['right'].set_visible(False)\n",
    "ax.spines['top'].set_visible(False)"
   ]
  },
  {
   "cell_type": "markdown",
   "metadata": {},
   "source": [
    "### 1.2: Scatter plot of housing prices and crime\n",
    "\n",
    "Use matplotlib to create a scatter plot that shows the relationship between the median value of the home (y-axis) and the per-capita crime rate (x-axis).  Properly label your axes, and make sure that your graphic looks polished and professional.\n"
   ]
  },
  {
   "cell_type": "code",
   "execution_count": 5,
   "metadata": {},
   "outputs": [
    {
     "data": {
      "text/plain": [
       "Text(0, 0.5, 'prices($1000)')"
      ]
     },
     "execution_count": 5,
     "metadata": {},
     "output_type": "execute_result"
    },
    {
     "data": {
      "image/png": "[encoded data removed]",
      "text/plain": [
       "<Figure size 432x288 with 1 Axes>"
      ]
     },
     "metadata": {
      "needs_background": "light"
     },
     "output_type": "display_data"
    }
   ],
   "source": [
    "# enter your code below\n",
    "fig, ax = plt.subplots()\n",
    "ax.scatter(bdata.data[:,0], bdata.target)\n",
    "ax.set_xlabel(\"per capita crime rate by town\")\n",
    "ax.set_ylabel(\"prices($1000)\")"
   ]
  },
  {
   "cell_type": "markdown",
   "metadata": {},
   "source": [
    "### 1.3 Create your own (creative and effective) visualization\n",
    "\n",
    "Use another type of graph or chart to illustrate an interesting pattern in the data.  Be creative in your visualization, and make sure to produce a \"publication-quality\" graph.  Points will be given for useful and creative graphs; points will be deducted for confusing issues like unlabeled axes.  If you're new to data visualization, [this guide](http://pubs.aeaweb.org/doi/pdfplus/10.1257/jep.28.1.209) is a good place to start."
   ]
  },
  {
   "cell_type": "code",
   "execution_count": 6,
   "metadata": {},
   "outputs": [
    {
     "data": {
      "image/png": "[encoded data removed]",
      "text/plain": [
       "<Figure size 432x288 with 1 Axes>"
      ]
     },
     "metadata": {},
     "output_type": "display_data"
    }
   ],
   "source": [
    "# enter your code here\n",
    "\n",
    "# The distribution of house prices in pie chart\n",
    "fig, ax = plt.subplots()\n",
    "value0 = len(bdata.target[bdata.target<10])\n",
    "value1 = len(bdata.target[(bdata.target>=10) & (bdata.target<20)])\n",
    "value2 = len(bdata.target[(bdata.target>=20) & (bdata.target<30)])\n",
    "value3 = len(bdata.target[(bdata.target>=30) & (bdata.target<40)])\n",
    "value4 = len(bdata.target[bdata.target>=40])\n",
    "sizes = [value0, value1, value2, value3, value4]\n",
    "labels = [\"less than 10\", \"between 10 and 20\", \"between 20 and 30\", \"between 30 and 40\", \"more than 40\"]\n",
    "ax.pie(sizes, labels = labels, autopct='%1.1f%%', shadow=True, startangle=90)\n",
    "_ = ax.axis('equal')\n",
    "_ = ax.set_title(\"price distribution of Boston houses($1000)\", size = 18) "
   ]
  },
  {
   "cell_type": "markdown",
   "metadata": {},
   "source": [
    "---\n",
    "\n",
    "## Part 2: Experimental Setup\n",
    "\n",
    "The goal of the next few sections is to design an experiment to predict the median home value for an instance in the data.\n",
    "\n",
    "### 2.1 Begin by writing a function to compute the Root Mean Squared Error for a list of numbers\n",
    "\n",
    "You can find the sqrt function in the Numpy package. Furthermore the details of RMSE can be found on [Wikipedia](http://en.wikipedia.org/wiki/Root-mean-square_deviation)\n",
    "\n"
   ]
  },
  {
   "cell_type": "code",
   "execution_count": 7,
   "metadata": {},
   "outputs": [],
   "source": [
    "\"\"\"\n",
    "Function\n",
    "--------\n",
    "compute_rmse\n",
    "\n",
    "Given two arrays, one of actual values and one of predicted values,\n",
    "compute the Roote Mean Squared Error\n",
    "\n",
    "Parameters\n",
    "----------\n",
    "predictions : array\n",
    "    Array of numerical values corresponding to predictions for each of the N observations\n",
    "\n",
    "yvalues : array\n",
    "    Array of numerical values corresponding to the actual values for each of the N observations\n",
    "\n",
    "Returns\n",
    "-------\n",
    "rmse : int\n",
    "    Root Mean Squared Error of the prediction\n",
    "\n",
    "Example\n",
    "-------\n",
    ">>> print compute_rmse((2,2,3),(0,2,6))\n",
    "2.08\n",
    "\"\"\"\n",
    "def compute_rmse(predictions, yvalues):\n",
    "    diff = predictions - yvalues\n",
    "    square = diff * diff\n",
    "    rmse = np.sqrt(sum(square)/len(square))\n",
    "    return rmse"
   ]
  },
  {
   "cell_type": "markdown",
   "metadata": {},
   "source": [
    "### 2.2 Divide your data into training and testing datasets\n",
    "\n",
    "Randomly select 66% of the data and put this in a training dataset (call this \"bdata_train\"), and place the remaining 34% in a testing dataset (call this \"bdata_test\")\n"
   ]
  },
  {
   "cell_type": "code",
   "execution_count": 8,
   "metadata": {},
   "outputs": [],
   "source": [
    "# leave the following line untouched, it will help ensure that your \"random\" split is the same \"random\" split used by the rest of the class\n",
    "np.random.seed(seed=13579)\n",
    "\n",
    "from sklearn.model_selection import train_test_split\n",
    " \n",
    "x_train, x_test, y_train, y_test = train_test_split(bdata.data, bdata.target, test_size=0.34)"
   ]
  },
  {
   "cell_type": "markdown",
   "metadata": {},
   "source": [
    "### 2.3 Use a very bad baseline for prediction, and compute RMSE\n",
    "\n",
    "Create a model that predicts, for every observation x_i, that the median home value is the average (mean) of the median values for all instances in the training set.  Compute the RMSE on the training set.  Now compute the RMSE on the test data set (but use the model you trained on the training set!).  How does RMSE compare for training vs. testing datasets? Is this what you expected, and why?"
   ]
  },
  {
   "cell_type": "code",
   "execution_count": 9,
   "metadata": {},
   "outputs": [
    {
     "name": "stdout",
     "output_type": "stream",
     "text": [
      "The RMSE for training part is 0.0\n",
      "The RMSE for testing part is 8.749574189135286\n"
     ]
    }
   ],
   "source": [
    "from sklearn.linear_model import LinearRegression\n",
    "\n",
    "bad_y_train = [sum(y_train)/len(y_train) for i in y_train] \n",
    "model = LinearRegression().fit(x_train, bad_y_train)\n",
    "bad_train_pred = model.predict(x_train)\n",
    "print(\"The RMSE for training part is \" + str(compute_rmse(bad_train_pred, bad_y_train)))\n",
    "bad_test_pred = model.predict(x_test)\n",
    "print(\"The RMSE for testing part is \" + str(compute_rmse(bad_test_pred, y_test)))"
   ]
  },
  {
   "cell_type": "markdown",
   "metadata": {},
   "source": [
    "*The RMSE for testing datasets is much larger than training datasets and RMSE for training datasets is 0. This is what I expected since we are not using the real y data for training datasets to build model, the model fit for the training data and fake y data so well definitely will do a poor job when predicts the y_test. Therefore, it will generate a much larger RMSE.*"
   ]
  },
  {
   "cell_type": "markdown",
   "metadata": {},
   "source": [
    "---\n",
    "\n",
    "## Part 3: Nearest Neighbors\n"
   ]
  },
  {
   "cell_type": "markdown",
   "metadata": {},
   "source": [
    "### 3.1 Nearest Neighbors: Distance function\n",
    "Let's try and build a machine learning algorithm to beat the \"Average Value\" baseline that you computed above.  Soon you will implement the Nearest Neighbor algorithm, but first you need to create a distance metric to measure the distance (and similarity) between two instances.  Write a generic function to compute the L-Norm distance (called the [*p*-norm](http://en.wikipedia.org/wiki/Norm_(mathematics) distance on Wikipedia). Verify that your function works by computing the Euclidean distance between the points (3,4) and (6,8)."
   ]
  },
  {
   "cell_type": "code",
   "execution_count": 10,
   "metadata": {},
   "outputs": [],
   "source": [
    "\"\"\"\n",
    "Function\n",
    "--------\n",
    "distance\n",
    "\n",
    "Given two instances and a value for L, return the L-Norm distance between them\n",
    "\n",
    "Parameters\n",
    "----------\n",
    "x1, x2 : array\n",
    "    Array of numerical values corresponding to predictions for each of the N observations\n",
    "\n",
    "L: int\n",
    "    Value of L to use in computing distances\n",
    "\n",
    "Returns\n",
    "-------\n",
    "dist : int\n",
    "    The L-norm distance between instances\n",
    "\n",
    "Example\n",
    "-------\n",
    ">>> print distance((3,4),(6,8),2)\n",
    "5\n",
    "\n",
    "\"\"\"\n",
    "def distance(x1, x2, L):\n",
    "    sum1 = 0\n",
    "    sum2 = 0\n",
    "    for i in range(0,len(x1)):\n",
    "        sum1 = sum1 + x1[i]**L\n",
    "        sum2 = sum2 + x2[i]**L\n",
    "    norm1 = sum1**(1/L)\n",
    "    norm2 = sum2**(1/L)\n",
    "    dist = np.abs(norm1-norm2)\n",
    "    return dist"
   ]
  },
  {
   "cell_type": "markdown",
   "metadata": {},
   "source": [
    "### 3.2 Basic Nearest Neighbor algorithm\n",
    "\n",
    "Now things get fun.  Your task is to implement a basic nearest neighbor algorithm from scratch.  Your simple model will use two input features (CRIM and RM) and a single output (MEDV).  In other words, you are modelling the relationship between median home value and crime rates and house size.\n",
    "\n",
    "Use your training data (bdata_train) to \"fit\" your model, although as you know, with Nearest Neighbors there is no real training, you just need to keep your training data in memory.  Write a function that predicts, for each instance in the testing data (bdata_test), the median home value using the nearest neighbor algorithm we discussed in class.  Since this is a small dataset, you can simply compare your test instance to every instance in the training set, and return the MEDV value of the closest training instance.  Have your function take L as an input, where L is passed to the distance function.\n",
    "\n",
    "Compute the RMSE for the Nearest Neighbor predictions on the test set, using the Euclidean distance.  Report an estimate of the total time taken by your code to predict the nearest neighbors for all the values in the test data set."
   ]
  },
  {
   "cell_type": "code",
   "execution_count": 11,
   "metadata": {},
   "outputs": [],
   "source": [
    "\"\"\"\n",
    "# For each observation in x_test, use for loop to find its nearest neighbor in x_train \n",
    "# and use the corresponding y value of the nearest neighbor in x_train as the predicted\n",
    "# value of the observation in x_test\n",
    "\"\"\"\n",
    "import time\n",
    "def nneighbor(x_train, x_test, y_train, y_test ,L):\n",
    "    start_time = time.time()\n",
    "    #your code here\n",
    "    y_pred = np.empty([len(y_test)])\n",
    "    for i in range(0,len(y_test)):\n",
    "        min_index = 0\n",
    "        min_dis = np.inf\n",
    "        for j in range(0,len(y_train)):\n",
    "            dis = distance(x_test[i,:],x_train[j,:],L)\n",
    "            if dis < min_dis:\n",
    "                min_dis = dis\n",
    "                min_index = j\n",
    "        y_pred[i] = y_train[min_index]\n",
    "    rmse = compute_rmse(y_pred, y_test)\n",
    "    print(\"Time taken: \" + str(round(time.time() - start_time,2)) + \" seconds\")\n",
    "    return rmse\n",
    "#your additional code here"
   ]
  },
  {
   "cell_type": "code",
   "execution_count": 12,
   "metadata": {},
   "outputs": [
    {
     "name": "stdout",
     "output_type": "stream",
     "text": [
      "Time taken: 0.34 seconds\n"
     ]
    },
    {
     "data": {
      "text/plain": [
       "10.574544087522618"
      ]
     },
     "execution_count": 12,
     "metadata": {},
     "output_type": "execute_result"
    }
   ],
   "source": [
    "x_train_sample =  x_train[:,[0,5]]\n",
    "x_test_sample =  x_test[:,[0,5]]\n",
    "nneighbor(x_train_sample, x_test_sample, y_train, y_test , 2)\n",
    "# The RMSE is 10.575"
   ]
  },
  {
   "cell_type": "markdown",
   "metadata": {},
   "source": [
    "### 3.3 Results and Normalization\n",
    "\n",
    "If you were being astute, you would have noticed that we never normalized our features -- a big no-no with Nearest Neighbor algorithms.  Write a generic normalization function that takes as input an array of values for a given feature, and returns the normalized array (subtract the mean and divide by the standard deviation).\n",
    "\n",
    "Re-run the Nearest Neighbor algorithm on the normalized dataset (still just using CRIM and RM as input), and compare the RMSE from this method with your previous RMSE evaluations.\n",
    "\n",
    "*NOTE*: To normalize properly, best practice is to compute the mean and standard deviation on the training set, and use these values to normalize the testing dataset. However, for this problem set, it is okay if you separately normalize each dataset using the respective mean and standard deviation."
   ]
  },
  {
   "cell_type": "code",
   "execution_count": 13,
   "metadata": {},
   "outputs": [
    {
     "name": "stdout",
     "output_type": "stream",
     "text": [
      "Time taken: 0.27 seconds\n"
     ]
    },
    {
     "data": {
      "text/plain": [
       "12.780073905003091"
      ]
     },
     "execution_count": 13,
     "metadata": {},
     "output_type": "execute_result"
    }
   ],
   "source": [
    "\"\"\"\n",
    "# Data minus its mean then divided by its standard deviation\n",
    "\"\"\"\n",
    "def normalize(raw_data):\n",
    "    normalized_data = raw_data.copy()\n",
    "    for i in range(len(normalized_data[0])):       \n",
    "        mean = np.mean(normalized_data[:,i])\n",
    "        std = np.std(normalized_data[:,i])\n",
    "        normalized_data[:,i] = (normalized_data[:,i] - mean)/std\n",
    "    return normalized_data\n",
    "\n",
    "#your additional code here\n",
    "\n",
    "nx_train_sample = normalize(x_train_sample)\n",
    "nx_test_sample = normalize(x_test_sample)\n",
    "nneighbor(nx_train_sample, nx_test_sample, y_train, y_test, 2)"
   ]
  },
  {
   "cell_type": "markdown",
   "metadata": {},
   "source": [
    "*The RMSE for normalized dataset is 12.780 which is greater than the unnomrmalized dataset(10.575).* "
   ]
  },
  {
   "cell_type": "markdown",
   "metadata": {},
   "source": [
    "### 3.4 Optimization\n",
    "\n",
    "A lot of the decisions we've made so far have been arbitrary.  Try to increase the performance of your nearest neighbor algorithm by adding features that you think might be relevant, and by using different values of L in the distance function.  Try a model that uses a different set of 2 features, then try at least one model that uses more than 4 features, then try using a different value of L.  If you're having fun, try a few different combinations of features and L!\n",
    "\n",
    "What combination of features and distance function provide the lowest RMSE?  Do your decisions affect the running time of the algorithm?"
   ]
  },
  {
   "cell_type": "code",
   "execution_count": 14,
   "metadata": {},
   "outputs": [
    {
     "name": "stdout",
     "output_type": "stream",
     "text": [
      "Time taken: 0.28 seconds\n",
      "11.794490239090456\n",
      "Time taken: 0.96 seconds\n",
      "11.620390191731623\n",
      "Time taken: 0.86 seconds\n",
      "10.217900534330907\n",
      "Time taken: 0.45 seconds\n",
      "12.613239672221479\n"
     ]
    }
   ],
   "source": [
    "# enter your code here\n",
    "\n",
    "#bdata_train, target_train, bdata_test, target_test\n",
    "\n",
    "# model with two different features\n",
    "normal_x_train = normalize(x_train[:,[6,9]])\n",
    "normal_x_test = normalize(x_test[:,[6,9]])\n",
    "print(nneighbor(normal_x_train, normal_x_test, y_train, y_test, 2))\n",
    "\n",
    "# model with more than 4 features\n",
    "normal_x_train = normalize(x_train)\n",
    "normal_x_test = normalize(x_test)\n",
    "print(nneighbor(normal_x_train, normal_x_test, y_train, y_test, 2))\n",
    "\n",
    "# model with different value of L\n",
    "normal_x_train = normalize(x_train)\n",
    "normal_x_test = normalize(x_test)\n",
    "print(nneighbor(normal_x_train, normal_x_test, y_train, y_test, 1))\n",
    "\n",
    "# For fun\n",
    "normal_x_train = normalize(x_train[:,[0,4,5,6,9]])\n",
    "normal_x_test = normalize(x_test[:,[0,4,5,6,9]])\n",
    "print(nneighbor(normal_x_train, normal_x_test, y_train, y_test, 4))"
   ]
  },
  {
   "cell_type": "markdown",
   "metadata": {},
   "source": [
    "*The lowest RMSE value is 10.218, and that model is using all features with L of 1 in distance computing. Besides, it seems that more features will increase the running time of the algorithm, but different L values does not affect too much.*"
   ]
  },
  {
   "cell_type": "markdown",
   "metadata": {},
   "source": [
    "### 3.5 Cross-Validation\n",
    "\n",
    "The more you tinkered with your features and distance function, the higher the risk that you overfit your training data.  To prevent this sort of overfitting, you need to use cross-validation (see K-fold [cross-validation](http://en.wikipedia.org/wiki/Cross-validation_(statistics)).  Here you must implement a simple k-fold cross-validation algorithm yourself.  The function you write here will be used several more times in this problem set, so do your best to write efficient code! (Note that the sklearn package has a built-in [K-fold](http://scikit-learn.org/stable/modules/cross_validation.html#cross-validation) iterator -- you should *not* be invoking that or any related algorithms in this section of the problem set.)\n",
    "\n",
    "Use 10-fold cross-validation and report the average RMSE for Nearest Neighbors using Euclidean distance with CRIM and RM input features, as well as the total running time for the full run of 10 folds.  In other words, randomly divide your dataset into 10 equally-sized samples, and for each of 10 iterations (the \"folds\"), use 9 samples as \"training data\" (even though there is no training in k-NN!), and the remaining 1 sample for testing.  Compute the RMSE of that particular test set, then move on to the next iteration.  Report the average RMSE across the 10 iterations."
   ]
  },
  {
   "cell_type": "code",
   "execution_count": 15,
   "metadata": {},
   "outputs": [],
   "source": [
    "def ten_fold_validation(X, y, L):\n",
    "    RMSEs = np.empty(10)\n",
    "    y = y.reshape(len(y),1)\n",
    "    Xy = np.concatenate([X, y], axis=1)\n",
    "    Xy = pd.DataFrame(Xy)\n",
    "    Xy = Xy.sample(frac = 1,random_state=1).to_numpy()\n",
    "    X = Xy[:,0:-1]\n",
    "    y = Xy[:,-1]\n",
    "    X = normalize(X)\n",
    "    \n",
    "    length = len(y)\n",
    "    length10 = int(length/10)\n",
    "    for i in range(0,10):\n",
    "        if i != 9:\n",
    "            y_test = y[i*length10:(i+1)*length10]\n",
    "            x_test = X[i*length10:(i+1)*length10,:]\n",
    "            x_train = np.concatenate((X[0:i*length10,:], X[(i+1)*length10:,:]),axis = 0)\n",
    "            y_train = np.concatenate((y[0:i*length10], y[(i+1)*length10:]),axis = 0)\n",
    "        else:\n",
    "            x_test = X[i*length10:,:]\n",
    "            y_test = y[i*length10:]\n",
    "            x_train = X[0:i*length10,:]\n",
    "            y_train = y[0:i*length10]\n",
    "        RMSEs[i] = nneighbor(x_train, x_test, y_train, y_test, L)\n",
    "    return np.mean(RMSEs)  "
   ]
  },
  {
   "cell_type": "code",
   "execution_count": 16,
   "metadata": {},
   "outputs": [
    {
     "name": "stdout",
     "output_type": "stream",
     "text": [
      "Time taken: 0.12 seconds\n",
      "Time taken: 0.12 seconds\n",
      "Time taken: 0.11 seconds\n",
      "Time taken: 0.11 seconds\n",
      "Time taken: 0.12 seconds\n",
      "Time taken: 0.11 seconds\n",
      "Time taken: 0.12 seconds\n",
      "Time taken: 0.1 seconds\n",
      "Time taken: 0.11 seconds\n",
      "Time taken: 0.13 seconds\n"
     ]
    },
    {
     "data": {
      "text/plain": [
       "12.555952080363971"
      ]
     },
     "execution_count": 16,
     "metadata": {},
     "output_type": "execute_result"
    }
   ],
   "source": [
    "ten_fold_validation(bdata.data[:,[0,5]], bdata.target, 2)\n",
    "# The average RMSE across the 10 iterations is 12.556"
   ]
  },
  {
   "cell_type": "markdown",
   "metadata": {},
   "source": [
    "### 3.6 K-Nearest Neighbors Algorithm\n",
    "\n",
    "Implement the K-Nearest Neighbors algorithm.  Using 10-fold cross validation, report the RMSE for K=3 and the running time of the algorithm."
   ]
  },
  {
   "cell_type": "code",
   "execution_count": 17,
   "metadata": {},
   "outputs": [
    {
     "name": "stdout",
     "output_type": "stream",
     "text": [
      "Time taken: 1.82 seconds\n"
     ]
    },
    {
     "data": {
      "text/plain": [
       "10.324706444257846"
      ]
     },
     "execution_count": 17,
     "metadata": {},
     "output_type": "execute_result"
    }
   ],
   "source": [
    "\"\"\"\n",
    "# Write knneighbor function based on nneighbor\n",
    "# In knn method\n",
    "# Do knneighbor() in each split way of data\n",
    "\"\"\"\n",
    "def knneighbor(x_train, x_test, y_train, y_test ,L, K):\n",
    "    y_pred = np.empty([len(y_test)])\n",
    "    for i in range(0,len(y_test)):\n",
    "        distances = np.array([1])\n",
    "        for j in range(0,len(y_train)):\n",
    "            dis = distance(x_test[i,:],x_train[j,:],L)\n",
    "            distances = np.concatenate((distances, np.array([dis])))\n",
    "        distances = distances[1:]\n",
    "        Sum = 0\n",
    "        for q in np.argsort(distances)[:K]:\n",
    "            Sum = Sum + y_train[q]\n",
    "        avg = Sum/K\n",
    "        y_pred[i] = avg    \n",
    "    rmse = compute_rmse(y_pred, y_test)\n",
    "    return rmse\n",
    "\n",
    "def knn(X, y, L, K):\n",
    "    start_time = time.time()\n",
    "    RMSEs = np.empty(10)\n",
    "    y = y.reshape(len(y),1)\n",
    "    Xy = np.concatenate([X, y], axis=1)\n",
    "    Xy = pd.DataFrame(Xy)\n",
    "    Xy = Xy.sample(frac = 1,random_state=1).to_numpy()\n",
    "    X = Xy[:,0:-1]\n",
    "    y = Xy[:,-1]\n",
    "    X = normalize(X)\n",
    "    \n",
    "    length = len(y)\n",
    "    length10 = int(length/10)\n",
    "    for i in range(0,10):\n",
    "        if i != 9:\n",
    "            y_test = y[i*length10:(i+1)*length10]\n",
    "            x_test = X[i*length10:(i+1)*length10,:]\n",
    "            x_train = np.concatenate((X[0:i*length10,:], X[(i+1)*length10:,:]),axis = 0)\n",
    "            y_train = np.concatenate((y[0:i*length10], y[(i+1)*length10:]),axis = 0)\n",
    "        else:\n",
    "            x_test = X[i*length10:,:]\n",
    "            y_test = y[i*length10:]\n",
    "            x_train = X[0:i*length10,:]\n",
    "            y_train = y[0:i*length10]\n",
    "        RMSEs[i] = knneighbor(x_train, x_test, y_train, y_test,L,K)\n",
    "    print(\"Time taken: \" + str(round(time.time() - start_time,2)) + \" seconds\")\n",
    "    return np.mean(RMSEs)\n",
    "\n",
    "knn(bdata.data[:,[0,5]], bdata.target,2,3)\n",
    "# The RMSE for K=3 is 10.325"
   ]
  },
  {
   "cell_type": "markdown",
   "metadata": {},
   "source": [
    "### 3.7 Using cross validation to find K\n",
    "\n",
    "What is the best choice of K?  Compute the RMSE for values of K between 1 and 25 using 10-fold cross-validation.  Use the following features in your model, and don't forget to normalize: CRIM, ZN, RM, AGE, DIS, TAX.  Create a graph that shows how RMSE changes as K increases from 1 to 25.  Label your axes, and summarize what you see.  What do you think is a reasonable choice of K for this model?"
   ]
  },
  {
   "cell_type": "code",
   "execution_count": 18,
   "metadata": {},
   "outputs": [
    {
     "name": "stdout",
     "output_type": "stream",
     "text": [
      "Time taken: 3.02 seconds\n",
      "Time taken: 3.04 seconds\n",
      "Time taken: 3.15 seconds\n",
      "Time taken: 2.97 seconds\n",
      "Time taken: 2.78 seconds\n",
      "Time taken: 2.97 seconds\n",
      "Time taken: 2.97 seconds\n",
      "Time taken: 2.95 seconds\n",
      "Time taken: 2.82 seconds\n",
      "Time taken: 3.05 seconds\n",
      "Time taken: 2.99 seconds\n",
      "Time taken: 2.98 seconds\n",
      "Time taken: 2.95 seconds\n",
      "Time taken: 3.01 seconds\n",
      "Time taken: 2.95 seconds\n",
      "Time taken: 2.99 seconds\n",
      "Time taken: 2.92 seconds\n",
      "Time taken: 2.91 seconds\n",
      "Time taken: 2.97 seconds\n",
      "Time taken: 2.94 seconds\n",
      "Time taken: 2.95 seconds\n",
      "Time taken: 2.94 seconds\n",
      "Time taken: 2.92 seconds\n",
      "Time taken: 2.98 seconds\n",
      "Time taken: 2.99 seconds\n"
     ]
    }
   ],
   "source": [
    "# enter your code here\n",
    "RMSEs = np.empty(25)\n",
    "for K in range(1, 26):\n",
    "    RMSEs[K-1] = knn(bdata.data[:,[0,1,5,6,7,9]], bdata.target,2,K)"
   ]
  },
  {
   "cell_type": "code",
   "execution_count": 19,
   "metadata": {},
   "outputs": [
    {
     "data": {
      "text/plain": [
       "Text(0, 0.5, 'RMSE')"
      ]
     },
     "execution_count": 19,
     "metadata": {},
     "output_type": "execute_result"
    },
    {
     "data": {
      "image/png": "[encoded data removed]",
      "text/plain": [
       "<Figure size 432x288 with 1 Axes>"
      ]
     },
     "metadata": {
      "needs_background": "light"
     },
     "output_type": "display_data"
    }
   ],
   "source": [
    "fig, ax = plt.subplots()\n",
    "ax.plot(RMSEs)\n",
    "ax.set_xlabel(\"K_value\")\n",
    "ax.set_ylabel(\"RMSE\")"
   ]
  },
  {
   "cell_type": "markdown",
   "metadata": {},
   "source": [
    "*According to the plot, RMSE has a decreasing pattern when K increases and the best choice here is K = 25 since it minimize the RMSE value.*"
   ]
  }
 ],
 "metadata": {
  "kernelspec": {
   "display_name": "Python 3",
   "language": "python",
   "name": "python3"
  },
  "language_info": {
   "codemirror_mode": {
    "name": "ipython",
    "version": 3
   },
   "file_extension": ".py",
   "mimetype": "text/x-python",
   "name": "python",
   "nbconvert_exporter": "python",
   "pygments_lexer": "ipython3",
   "version": "3.8.3"
  }
 },
 "nbformat": 4,
 "nbformat_minor": 4
}
