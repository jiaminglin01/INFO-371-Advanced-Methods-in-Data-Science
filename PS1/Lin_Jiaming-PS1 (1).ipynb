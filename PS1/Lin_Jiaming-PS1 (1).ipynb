{
 "cells": [
  {
   "cell_type": "markdown",
   "metadata": {},
   "source": [
    "## Problem Set 1, due January 18th at 11:59pm \n",
    "\n",
    "\n",
    "#### Before You Start\n",
    "For this problem set, you should download the flights.zip dataset from Canvas. Create a local copy of the notebook and rename it LASTNAME_FIRSTNAME-PS1.ipynb. Then edit your renamed file directly in your browser. You should also make sure the following libraries load correctly."
   ]
  },
  {
   "cell_type": "code",
   "execution_count": 1,
   "metadata": {},
   "outputs": [
    {
     "name": "stdout",
     "output_type": "stream",
     "text": [
      "Your numpy version: 1.18.5 (need at least 1.7.1)\n",
      "Your SciPy version:  1.5.0 (need at least 0.12.0)\n",
      "Your Pandas version:  1.0.5 (need at least 0.11.0)\n",
      "Your Mapltolib version:  3.2.2 (need at least 1.2.1)\n",
      "Your Scikit-Learn version: 0.23.1 (need at least 0.13.1)\n"
     ]
    }
   ],
   "source": [
    "# Numpy is a library for working with Arrays\n",
    "import numpy as np\n",
    "print (\"Your numpy version: %6.6s (need at least 1.7.1)\" % np.__version__)\n",
    "\n",
    "# SciPy implements many different numerical algorithms\n",
    "import scipy as sp\n",
    "print (\"Your SciPy version: %6.6s (need at least 0.12.0)\" % sp.__version__)\n",
    "\n",
    "# Pandas makes working with data tables easier\n",
    "import pandas as pd\n",
    "print (\"Your Pandas version: %6.6s (need at least 0.11.0)\" % pd.__version__)\n",
    "\n",
    "# Module for plotting\n",
    "import matplotlib\n",
    "print (\"Your Mapltolib version: %6.6s (need at least 1.2.1)\" % matplotlib.__version__)\n",
    "\n",
    "# SciKit Learn implements several Machine Learning algorithms\n",
    "import sklearn\n",
    "print (\"Your Scikit-Learn version: %6.6s (need at least 0.13.1)\" % sklearn.__version__)\n",
    "\n",
    "import statsmodels.formula.api as smf"
   ]
  },
  {
   "cell_type": "markdown",
   "metadata": {},
   "source": [
    "#### Instructions: \n",
    " \n",
    "In this problem set you will perform a basic exploratory analysis on an example dataset, bringing to bear all of your new skills in data manipulation and visualization. You will be required to submit well commented python code, documenting all code used in this problem set, along with a write up answering all questions below. Use figures as appropriate to support your answers, and when required by the problem. \n",
    "\n",
    "This data set uses the NYCFlights13 dataset. You can download the dataset from flights data that you downloaded from canvas (flights.zip).\n",
    "\n",
    "Selected questions ask you to answer in multiple ways. Make sure to provide different functions or ways for answering the same question. This will help you see that most data questions can be answered in different ways even with the same software language."
   ]
  },
  {
   "cell_type": "code",
   "execution_count": 2,
   "metadata": {},
   "outputs": [],
   "source": [
    "import pandas as pd\n",
    "import numpy as np\n",
    "import matplotlib.pyplot as plt"
   ]
  },
  {
   "cell_type": "code",
   "execution_count": 3,
   "metadata": {},
   "outputs": [],
   "source": [
    "flights_df= pd.read_csv('flights.csv')"
   ]
  },
  {
   "cell_type": "code",
   "execution_count": 4,
   "metadata": {},
   "outputs": [
    {
     "name": "stdout",
     "output_type": "stream",
     "text": [
      "(336776, 17)\n",
      "Index(['Unnamed: 0', 'year', 'month', 'day', 'dep_time', 'dep_delay',\n",
      "       'arr_time', 'arr_delay', 'carrier', 'tailnum', 'flight', 'origin',\n",
      "       'dest', 'air_time', 'distance', 'hour', 'minute'],\n",
      "      dtype='object')\n",
      "Unnamed: 0      int64\n",
      "year            int64\n",
      "month           int64\n",
      "day             int64\n",
      "dep_time      float64\n",
      "dep_delay     float64\n",
      "arr_time      float64\n",
      "arr_delay     float64\n",
      "carrier        object\n",
      "tailnum        object\n",
      "flight          int64\n",
      "origin         object\n",
      "dest           object\n",
      "air_time      float64\n",
      "distance        int64\n",
      "hour          float64\n",
      "minute        float64\n",
      "dtype: object\n"
     ]
    }
   ],
   "source": [
    "# Let's start by looking at some of the structural attributes of the dataset\n",
    "\n",
    "print (flights_df.shape)   # rows and columns\n",
    "print (flights_df.columns) # column names\n",
    "print (flights_df.dtypes)  # data types of each column"
   ]
  },
  {
   "cell_type": "code",
   "execution_count": 5,
   "metadata": {},
   "outputs": [
    {
     "name": "stdout",
     "output_type": "stream",
     "text": [
      "['IAH' 'MIA' 'BQN' 'ATL' 'ORD' 'FLL' 'IAD' 'MCO' 'PBI' 'TPA' 'LAX' 'SFO'\n",
      " 'DFW' 'BOS' 'LAS' 'MSP' 'DTW' 'RSW' 'SJU' 'PHX' 'BWI' 'CLT' 'BUF' 'DEN'\n",
      " 'SNA' 'MSY' 'SLC' 'XNA' 'MKE' 'SEA' 'ROC' 'SYR' 'SRQ' 'RDU' 'CMH' 'JAX'\n",
      " 'CHS' 'MEM' 'PIT' 'SAN' 'DCA' 'CLE' 'STL' 'MYR' 'JAC' 'MDW' 'HNL' 'BNA'\n",
      " 'AUS' 'BTV' 'PHL' 'STT' 'EGE' 'AVL' 'PWM' 'IND' 'SAV' 'CAK' 'HOU' 'LGB'\n",
      " 'DAY' 'ALB' 'BDL' 'MHT' 'MSN' 'GSO' 'CVG' 'BUR' 'RIC' 'GSP' 'GRR' 'MCI'\n",
      " 'ORF' 'SAT' 'SDF' 'PDX' 'SJC' 'OMA' 'CRW' 'OAK' 'SMF' 'TUL' 'TYS' 'OKC'\n",
      " 'PVD' 'DSM' 'PSE' 'BHM' 'CAE' 'HDN' 'BZN' 'MTJ' 'EYW' 'PSP' 'ACK' 'BGR'\n",
      " 'ABQ' 'ILM' 'MVY' 'SBN' 'LEX' 'CHO' 'TVC' 'ANC' 'LGA']\n"
     ]
    },
    {
     "data": {
      "text/html": [
       "<div>\n",
       "<style scoped>\n",
       "    .dataframe tbody tr th:only-of-type {\n",
       "        vertical-align: middle;\n",
       "    }\n",
       "\n",
       "    .dataframe tbody tr th {\n",
       "        vertical-align: top;\n",
       "    }\n",
       "\n",
       "    .dataframe thead th {\n",
       "        text-align: right;\n",
       "    }\n",
       "</style>\n",
       "<table border=\"1\" class=\"dataframe\">\n",
       "  <thead>\n",
       "    <tr style=\"text-align: right;\">\n",
       "      <th></th>\n",
       "      <th>Unnamed: 0</th>\n",
       "      <th>year</th>\n",
       "      <th>month</th>\n",
       "      <th>day</th>\n",
       "      <th>dep_time</th>\n",
       "      <th>dep_delay</th>\n",
       "      <th>arr_time</th>\n",
       "      <th>arr_delay</th>\n",
       "      <th>carrier</th>\n",
       "      <th>tailnum</th>\n",
       "      <th>flight</th>\n",
       "      <th>origin</th>\n",
       "      <th>dest</th>\n",
       "      <th>air_time</th>\n",
       "      <th>distance</th>\n",
       "      <th>hour</th>\n",
       "      <th>minute</th>\n",
       "    </tr>\n",
       "  </thead>\n",
       "  <tbody>\n",
       "    <tr>\n",
       "      <th>119719</th>\n",
       "      <td>119720</td>\n",
       "      <td>2013</td>\n",
       "      <td>2</td>\n",
       "      <td>10</td>\n",
       "      <td>2026.0</td>\n",
       "      <td>26.0</td>\n",
       "      <td>2205.0</td>\n",
       "      <td>28.0</td>\n",
       "      <td>EV</td>\n",
       "      <td>N13913</td>\n",
       "      <td>4106</td>\n",
       "      <td>EWR</td>\n",
       "      <td>GSO</td>\n",
       "      <td>69.0</td>\n",
       "      <td>445</td>\n",
       "      <td>20.0</td>\n",
       "      <td>26.0</td>\n",
       "    </tr>\n",
       "    <tr>\n",
       "      <th>302834</th>\n",
       "      <td>302835</td>\n",
       "      <td>2013</td>\n",
       "      <td>8</td>\n",
       "      <td>25</td>\n",
       "      <td>722.0</td>\n",
       "      <td>-8.0</td>\n",
       "      <td>803.0</td>\n",
       "      <td>-31.0</td>\n",
       "      <td>US</td>\n",
       "      <td>N948UW</td>\n",
       "      <td>1821</td>\n",
       "      <td>LGA</td>\n",
       "      <td>PHL</td>\n",
       "      <td>27.0</td>\n",
       "      <td>96</td>\n",
       "      <td>7.0</td>\n",
       "      <td>22.0</td>\n",
       "    </tr>\n",
       "    <tr>\n",
       "      <th>115191</th>\n",
       "      <td>115192</td>\n",
       "      <td>2013</td>\n",
       "      <td>2</td>\n",
       "      <td>5</td>\n",
       "      <td>1547.0</td>\n",
       "      <td>-2.0</td>\n",
       "      <td>1642.0</td>\n",
       "      <td>-23.0</td>\n",
       "      <td>UA</td>\n",
       "      <td>N54241</td>\n",
       "      <td>1116</td>\n",
       "      <td>EWR</td>\n",
       "      <td>BOS</td>\n",
       "      <td>35.0</td>\n",
       "      <td>200</td>\n",
       "      <td>15.0</td>\n",
       "      <td>47.0</td>\n",
       "    </tr>\n",
       "    <tr>\n",
       "      <th>2798</th>\n",
       "      <td>2799</td>\n",
       "      <td>2013</td>\n",
       "      <td>1</td>\n",
       "      <td>4</td>\n",
       "      <td>710.0</td>\n",
       "      <td>-5.0</td>\n",
       "      <td>1009.0</td>\n",
       "      <td>-18.0</td>\n",
       "      <td>UA</td>\n",
       "      <td>N76505</td>\n",
       "      <td>1526</td>\n",
       "      <td>EWR</td>\n",
       "      <td>RSW</td>\n",
       "      <td>160.0</td>\n",
       "      <td>1068</td>\n",
       "      <td>7.0</td>\n",
       "      <td>10.0</td>\n",
       "    </tr>\n",
       "    <tr>\n",
       "      <th>188202</th>\n",
       "      <td>188203</td>\n",
       "      <td>2013</td>\n",
       "      <td>4</td>\n",
       "      <td>25</td>\n",
       "      <td>1146.0</td>\n",
       "      <td>72.0</td>\n",
       "      <td>1346.0</td>\n",
       "      <td>63.0</td>\n",
       "      <td>EV</td>\n",
       "      <td>N13123</td>\n",
       "      <td>4694</td>\n",
       "      <td>EWR</td>\n",
       "      <td>IND</td>\n",
       "      <td>104.0</td>\n",
       "      <td>645</td>\n",
       "      <td>11.0</td>\n",
       "      <td>46.0</td>\n",
       "    </tr>\n",
       "    <tr>\n",
       "      <th>180575</th>\n",
       "      <td>180576</td>\n",
       "      <td>2013</td>\n",
       "      <td>4</td>\n",
       "      <td>17</td>\n",
       "      <td>1027.0</td>\n",
       "      <td>-3.0</td>\n",
       "      <td>1138.0</td>\n",
       "      <td>-4.0</td>\n",
       "      <td>EV</td>\n",
       "      <td>N17108</td>\n",
       "      <td>4249</td>\n",
       "      <td>EWR</td>\n",
       "      <td>IAD</td>\n",
       "      <td>44.0</td>\n",
       "      <td>212</td>\n",
       "      <td>10.0</td>\n",
       "      <td>27.0</td>\n",
       "    </tr>\n",
       "    <tr>\n",
       "      <th>228398</th>\n",
       "      <td>228399</td>\n",
       "      <td>2013</td>\n",
       "      <td>6</td>\n",
       "      <td>7</td>\n",
       "      <td>1721.0</td>\n",
       "      <td>1.0</td>\n",
       "      <td>1920.0</td>\n",
       "      <td>-22.0</td>\n",
       "      <td>UA</td>\n",
       "      <td>N455UA</td>\n",
       "      <td>483</td>\n",
       "      <td>EWR</td>\n",
       "      <td>PHX</td>\n",
       "      <td>274.0</td>\n",
       "      <td>2133</td>\n",
       "      <td>17.0</td>\n",
       "      <td>21.0</td>\n",
       "    </tr>\n",
       "    <tr>\n",
       "      <th>291727</th>\n",
       "      <td>291728</td>\n",
       "      <td>2013</td>\n",
       "      <td>8</td>\n",
       "      <td>13</td>\n",
       "      <td>1241.0</td>\n",
       "      <td>1.0</td>\n",
       "      <td>1357.0</td>\n",
       "      <td>0.0</td>\n",
       "      <td>EV</td>\n",
       "      <td>N17169</td>\n",
       "      <td>6054</td>\n",
       "      <td>EWR</td>\n",
       "      <td>IAD</td>\n",
       "      <td>45.0</td>\n",
       "      <td>212</td>\n",
       "      <td>12.0</td>\n",
       "      <td>41.0</td>\n",
       "    </tr>\n",
       "    <tr>\n",
       "      <th>54125</th>\n",
       "      <td>54126</td>\n",
       "      <td>2013</td>\n",
       "      <td>10</td>\n",
       "      <td>30</td>\n",
       "      <td>745.0</td>\n",
       "      <td>-10.0</td>\n",
       "      <td>1100.0</td>\n",
       "      <td>-10.0</td>\n",
       "      <td>AA</td>\n",
       "      <td>N351AA</td>\n",
       "      <td>59</td>\n",
       "      <td>JFK</td>\n",
       "      <td>SFO</td>\n",
       "      <td>356.0</td>\n",
       "      <td>2586</td>\n",
       "      <td>7.0</td>\n",
       "      <td>45.0</td>\n",
       "    </tr>\n",
       "    <tr>\n",
       "      <th>64478</th>\n",
       "      <td>64479</td>\n",
       "      <td>2013</td>\n",
       "      <td>11</td>\n",
       "      <td>10</td>\n",
       "      <td>1343.0</td>\n",
       "      <td>0.0</td>\n",
       "      <td>1531.0</td>\n",
       "      <td>-20.0</td>\n",
       "      <td>US</td>\n",
       "      <td>N750UW</td>\n",
       "      <td>1802</td>\n",
       "      <td>JFK</td>\n",
       "      <td>CLT</td>\n",
       "      <td>88.0</td>\n",
       "      <td>541</td>\n",
       "      <td>13.0</td>\n",
       "      <td>43.0</td>\n",
       "    </tr>\n",
       "  </tbody>\n",
       "</table>\n",
       "</div>"
      ],
      "text/plain": [
       "        Unnamed: 0  year  month  day  dep_time  dep_delay  arr_time  \\\n",
       "119719      119720  2013      2   10    2026.0       26.0    2205.0   \n",
       "302834      302835  2013      8   25     722.0       -8.0     803.0   \n",
       "115191      115192  2013      2    5    1547.0       -2.0    1642.0   \n",
       "2798          2799  2013      1    4     710.0       -5.0    1009.0   \n",
       "188202      188203  2013      4   25    1146.0       72.0    1346.0   \n",
       "180575      180576  2013      4   17    1027.0       -3.0    1138.0   \n",
       "228398      228399  2013      6    7    1721.0        1.0    1920.0   \n",
       "291727      291728  2013      8   13    1241.0        1.0    1357.0   \n",
       "54125        54126  2013     10   30     745.0      -10.0    1100.0   \n",
       "64478        64479  2013     11   10    1343.0        0.0    1531.0   \n",
       "\n",
       "        arr_delay carrier tailnum  flight origin dest  air_time  distance  \\\n",
       "119719       28.0      EV  N13913    4106    EWR  GSO      69.0       445   \n",
       "302834      -31.0      US  N948UW    1821    LGA  PHL      27.0        96   \n",
       "115191      -23.0      UA  N54241    1116    EWR  BOS      35.0       200   \n",
       "2798        -18.0      UA  N76505    1526    EWR  RSW     160.0      1068   \n",
       "188202       63.0      EV  N13123    4694    EWR  IND     104.0       645   \n",
       "180575       -4.0      EV  N17108    4249    EWR  IAD      44.0       212   \n",
       "228398      -22.0      UA  N455UA     483    EWR  PHX     274.0      2133   \n",
       "291727        0.0      EV  N17169    6054    EWR  IAD      45.0       212   \n",
       "54125       -10.0      AA  N351AA      59    JFK  SFO     356.0      2586   \n",
       "64478       -20.0      US  N750UW    1802    JFK  CLT      88.0       541   \n",
       "\n",
       "        hour  minute  \n",
       "119719  20.0    26.0  \n",
       "302834   7.0    22.0  \n",
       "115191  15.0    47.0  \n",
       "2798     7.0    10.0  \n",
       "188202  11.0    46.0  \n",
       "180575  10.0    27.0  \n",
       "228398  17.0    21.0  \n",
       "291727  12.0    41.0  \n",
       "54125    7.0    45.0  \n",
       "64478   13.0    43.0  "
      ]
     },
     "execution_count": 5,
     "metadata": {},
     "output_type": "execute_result"
    }
   ],
   "source": [
    "# Let's look at the unique destinations of the flights in the data \n",
    "\n",
    "a = flights_df.dest.unique()\n",
    "print(a)\n",
    "\n",
    "# Let's now look at the top ten rows to get a sense of the data\n",
    "flights_df.sample(10)\n"
   ]
  },
  {
   "cell_type": "markdown",
   "metadata": {},
   "source": [
    "#### Some Tips\n",
    "\n",
    "* This assignment involves extensive Data frame splitting and aggregation. You should look into the details of the methods groupby, transform, sum, count, mean etc.\n",
    "\n",
    "* Many of the tasks in the assignment can be done either through the Pandas Data Frame or by converting the data frames to Series. Many of the methods in the numpy are applicable to Series only. When stuck, try to explore the type of object (Pandas Data Frame or Numpy Series) you are dealing with."
   ]
  },
  {
   "cell_type": "markdown",
   "metadata": {},
   "source": [
    "#### Question 1\n",
    "Let’s explore flights from NYC to Seattle. Use the flights dataset to answer the following questions.\n",
    "\n",
    "(a) How many flights were there from NYC airports to Seattle in 2013?"
   ]
  },
  {
   "cell_type": "code",
   "execution_count": 6,
   "metadata": {},
   "outputs": [
    {
     "data": {
      "text/plain": [
       "(3923, 17)"
      ]
     },
     "execution_count": 6,
     "metadata": {},
     "output_type": "execute_result"
    }
   ],
   "source": [
    "# Your code here\n",
    "flights_df1=flights_df[ flights_df.dest=='SEA']\n",
    "flights_df1.shape"
   ]
  },
  {
   "cell_type": "markdown",
   "metadata": {},
   "source": [
    "-- There are 3923 flights were from NYC airports to Seattle in 2013. -- "
   ]
  },
  {
   "cell_type": "markdown",
   "metadata": {},
   "source": [
    "(b) How many airlines fly from NYC to Seattle?"
   ]
  },
  {
   "cell_type": "code",
   "execution_count": 7,
   "metadata": {},
   "outputs": [
    {
     "data": {
      "text/plain": [
       "5"
      ]
     },
     "execution_count": 7,
     "metadata": {},
     "output_type": "execute_result"
    }
   ],
   "source": [
    "# Your code here\n",
    "len(flights_df1.carrier.unique())"
   ]
  },
  {
   "cell_type": "markdown",
   "metadata": {},
   "source": [
    " --  There are total 5 airlines. -- "
   ]
  },
  {
   "cell_type": "markdown",
   "metadata": {},
   "source": [
    "(c) How many unique air planes fly from NYC to Seattle?"
   ]
  },
  {
   "cell_type": "code",
   "execution_count": 8,
   "metadata": {},
   "outputs": [
    {
     "data": {
      "text/plain": [
       "935"
      ]
     },
     "execution_count": 8,
     "metadata": {},
     "output_type": "execute_result"
    }
   ],
   "source": [
    "# Your code here\n",
    "flights_df1.tailnum.nunique()"
   ]
  },
  {
   "cell_type": "markdown",
   "metadata": {},
   "source": [
    " -- There are total 935 unique air planes. -- "
   ]
  },
  {
   "cell_type": "markdown",
   "metadata": {},
   "source": [
    "(d) What is the average arrival delay for flights from NC to Seattle?"
   ]
  },
  {
   "cell_type": "code",
   "execution_count": 9,
   "metadata": {},
   "outputs": [
    {
     "data": {
      "text/plain": [
       "-1.0990990990990992"
      ]
     },
     "execution_count": 9,
     "metadata": {},
     "output_type": "execute_result"
    }
   ],
   "source": [
    "# Your code here\n",
    "flights_df1.arr_delay.mean()"
   ]
  },
  {
   "cell_type": "markdown",
   "metadata": {},
   "source": [
    " --  The average arrival delay for flights from NYC to Seattle is -1.10 minutes. -- "
   ]
  },
  {
   "cell_type": "markdown",
   "metadata": {},
   "source": [
    "(e) What proportion of flights to Seattle come from each NYC airport? Provide multiple ways of answering the question."
   ]
  },
  {
   "cell_type": "code",
   "execution_count": 10,
   "metadata": {},
   "outputs": [
    {
     "name": "stdout",
     "output_type": "stream",
     "text": [
      "0.0\n",
      "0.46673464185572267\n",
      "0.5332653581442773\n"
     ]
    }
   ],
   "source": [
    "# Your code here\n",
    "\n",
    "print(len(flights_df1[ flights_df1.origin=='LGA'])/len(flights_df1))\n",
    "print(len(flights_df1[ flights_df1.origin=='EWR'])/len(flights_df1))\n",
    "print(len(flights_df1[ flights_df1.origin=='JFK'])/len(flights_df1))"
   ]
  },
  {
   "cell_type": "code",
   "execution_count": 11,
   "metadata": {},
   "outputs": [
    {
     "data": {
      "text/plain": [
       "origin\n",
       "EWR    0.466735\n",
       "JFK    0.533265\n",
       "dtype: float64"
      ]
     },
     "execution_count": 11,
     "metadata": {},
     "output_type": "execute_result"
    }
   ],
   "source": [
    "df_og = flights_df1.groupby([\"origin\"])\n",
    "df_og.size()/len(flights_df1)"
   ]
  },
  {
   "cell_type": "markdown",
   "metadata": {},
   "source": [
    " --  The proportion of flights to Seattle from LGA, EWR and JFK airports is 0, 0.467 and 0.533 -- "
   ]
  },
  {
   "cell_type": "markdown",
   "metadata": {},
   "source": [
    "## Question 2\n",
    "Flights are often delayed. Consider the following questions exploring delay patterns.\n",
    "\n",
    "(a) Which date has the largest average departure delay? Which date has the largest average arrival delay?"
   ]
  },
  {
   "cell_type": "code",
   "execution_count": 12,
   "metadata": {},
   "outputs": [
    {
     "name": "stdout",
     "output_type": "stream",
     "text": [
      "date\n",
      "308    3.0\n",
      "Name: month, dtype: float64\n",
      "date\n",
      "308    3.0\n",
      "Name: month, dtype: float64\n"
     ]
    }
   ],
   "source": [
    "# Your code here\n",
    "\n",
    "# Departure delay\n",
    "flights_df[\"date\"] = flights_df[\"month\"]*100 + flights_df[\"day\"]\n",
    "means = flights_df.groupby([\"date\"]).mean()\n",
    "dep_delay_max = means[means.dep_delay == means.dep_delay.max()]\n",
    "print(dep_delay_max.month)\n",
    "\n",
    "arr_delay_max = means[means.arr_delay == means.arr_delay.max()]\n",
    "print(arr_delay_max.month)"
   ]
  },
  {
   "cell_type": "markdown",
   "metadata": {},
   "source": [
    "-- Largest departure and arrival delay are happend on the same date: March 8th.--"
   ]
  },
  {
   "cell_type": "markdown",
   "metadata": {},
   "source": [
    "(b) What was the worst day to fly out of NYC in 2013 if you dislike delayed flights?\n"
   ]
  },
  {
   "cell_type": "code",
   "execution_count": 13,
   "metadata": {},
   "outputs": [],
   "source": [
    "# Your code here"
   ]
  },
  {
   "cell_type": "markdown",
   "metadata": {},
   "source": [
    " -- March 8th, since it has the longest delay(both departure delay and arrival delay).--"
   ]
  },
  {
   "cell_type": "markdown",
   "metadata": {},
   "source": [
    "(c) Are there any seasonal patterns in departure delays for flights from NYC?"
   ]
  },
  {
   "cell_type": "code",
   "execution_count": 14,
   "metadata": {},
   "outputs": [
    {
     "data": {
      "text/plain": [
       "[<matplotlib.lines.Line2D at 0x17d49e05190>]"
      ]
     },
     "execution_count": 14,
     "metadata": {},
     "output_type": "execute_result"
    },
    {
     "data": {
      "image/png": "[encoded data removed]",
      "text/plain": [
       "<Figure size 432x288 with 1 Axes>"
      ]
     },
     "metadata": {
      "needs_background": "light"
     },
     "output_type": "display_data"
    }
   ],
   "source": [
    "# Your code here\n",
    "\n",
    "means = flights_df.groupby([\"month\"]).mean()\n",
    "plt.plot(means.dep_delay)"
   ]
  },
  {
   "cell_type": "markdown",
   "metadata": {},
   "source": [
    "-- From the plot, it seems that there is not a clear pattern, but the departure delay seems lowest during the fall and highest during the summer.--"
   ]
  },
  {
   "cell_type": "markdown",
   "metadata": {},
   "source": [
    "(d) On average, how do departure delays vary over the course of a day?"
   ]
  },
  {
   "cell_type": "code",
   "execution_count": 15,
   "metadata": {},
   "outputs": [
    {
     "data": {
      "text/plain": [
       "[<matplotlib.lines.Line2D at 0x17d49e9c460>]"
      ]
     },
     "execution_count": 15,
     "metadata": {},
     "output_type": "execute_result"
    },
    {
     "data": {
      "image/png": "[encoded data removed]",
      "text/plain": [
       "<Figure size 432x288 with 1 Axes>"
      ]
     },
     "metadata": {
      "needs_background": "light"
     },
     "output_type": "display_data"
    }
   ],
   "source": [
    "# Your code here\n",
    "\n",
    "df2 = flights_df.groupby([\"hour\"]).mean()\n",
    "plt.plot(df2.dep_delay)"
   ]
  },
  {
   "cell_type": "markdown",
   "metadata": {},
   "source": [
    " -- It seems that departure delay is lowest around 4 am, and then gradually increase from 4 am to 3am next day and is highest at 3 am.--"
   ]
  },
  {
   "cell_type": "markdown",
   "metadata": {},
   "source": [
    "## Question 3\n",
    "    Which flight departing NYC in 2013 flew the fastest?"
   ]
  },
  {
   "cell_type": "code",
   "execution_count": 16,
   "metadata": {},
   "outputs": [
    {
     "data": {
      "text/html": [
       "<div>\n",
       "<style scoped>\n",
       "    .dataframe tbody tr th:only-of-type {\n",
       "        vertical-align: middle;\n",
       "    }\n",
       "\n",
       "    .dataframe tbody tr th {\n",
       "        vertical-align: top;\n",
       "    }\n",
       "\n",
       "    .dataframe thead th {\n",
       "        text-align: right;\n",
       "    }\n",
       "</style>\n",
       "<table border=\"1\" class=\"dataframe\">\n",
       "  <thead>\n",
       "    <tr style=\"text-align: right;\">\n",
       "      <th></th>\n",
       "      <th>air_time</th>\n",
       "      <th>distance</th>\n",
       "      <th>speed</th>\n",
       "    </tr>\n",
       "    <tr>\n",
       "      <th>flight</th>\n",
       "      <th></th>\n",
       "      <th></th>\n",
       "      <th></th>\n",
       "    </tr>\n",
       "  </thead>\n",
       "  <tbody>\n",
       "    <tr>\n",
       "      <th>5479</th>\n",
       "      <td>166.0</td>\n",
       "      <td>1389</td>\n",
       "      <td>8.36747</td>\n",
       "    </tr>\n",
       "  </tbody>\n",
       "</table>\n",
       "</div>"
      ],
      "text/plain": [
       "        air_time  distance    speed\n",
       "flight                             \n",
       "5479       166.0      1389  8.36747"
      ]
     },
     "execution_count": 16,
     "metadata": {},
     "output_type": "execute_result"
    }
   ],
   "source": [
    "# Your code here\n",
    "\n",
    "df2 = flights_df[[\"air_time\", \"flight\", \"distance\"]].dropna()\n",
    "df2 = df2.groupby(\"flight\").sum()\n",
    "df2[\"speed\"] = df2[\"distance\"]/df2[\"air_time\"]\n",
    "speed_max = df2[df2.speed == df2.speed.max()]\n",
    "speed_max"
   ]
  },
  {
   "cell_type": "markdown",
   "metadata": {},
   "source": [
    " --  Flight 5479 flew the fastest. -- "
   ]
  },
  {
   "cell_type": "markdown",
   "metadata": {},
   "source": [
    "## Question 4\n",
    "Which flights (i.e. carrier + flight + dest) happen every day? Where do they fly to?"
   ]
  },
  {
   "cell_type": "code",
   "execution_count": 17,
   "metadata": {},
   "outputs": [
    {
     "data": {
      "text/plain": [
       "VX251 LAS     365\n",
       "VX413 LAX     365\n",
       "AA1357 SJU    365\n",
       "AA59 SFO      365\n",
       "B6431 SRQ     365\n",
       "DL2391 TPA    365\n",
       "EV5712 IAD    365\n",
       "AA181 LAX     365\n",
       "AA119 LAX     365\n",
       "DL2159 MCO    365\n",
       "B6359 BUR     365\n",
       "UA15 HNL      365\n",
       "B6371 FLL     365\n",
       "AA1611 MIA    365\n",
       "B61783 MCO    365\n",
       "VX407 LAX     365\n",
       "B6219 CLT     365\n",
       "B6703 SJU     365\n",
       "Name: flights, dtype: int64"
      ]
     },
     "execution_count": 17,
     "metadata": {},
     "output_type": "execute_result"
    }
   ],
   "source": [
    "# Your code here\n",
    "flights_df[\"flight\"] = flights_df[\"flight\"].astype(str)\n",
    "flights_df[\"flights\"] = flights_df.carrier + flights_df.flight + \" \" + flights_df.dest\n",
    "df = flights_df[\"flights\"].value_counts()\n",
    "df = df[df == 365]\n",
    "df"
   ]
  },
  {
   "cell_type": "markdown",
   "metadata": {},
   "source": [
    " -- Write your answer in English here -- \n",
    " \n",
    " Flights that fly everyday and their destinations are on the above chart."
   ]
  },
  {
   "cell_type": "markdown",
   "metadata": {},
   "source": [
    "## Question 5\n",
    "Develop one research question you can address using the nycflights2013 dataset. Provide two visualizations to support your exploration of this question. Discuss what you find.\n"
   ]
  },
  {
   "cell_type": "code",
   "execution_count": 18,
   "metadata": {},
   "outputs": [
    {
     "name": "stdout",
     "output_type": "stream",
     "text": [
      "                            OLS Regression Results                            \n",
      "==============================================================================\n",
      "Dep. Variable:       np.log(distance)   R-squared:                       0.669\n",
      "Model:                            OLS   Adj. R-squared:                  0.669\n",
      "Method:                 Least Squares   F-statistic:                 6.603e+05\n",
      "Date:                Mon, 18 Jan 2021   Prob (F-statistic):               0.00\n",
      "Time:                        21:25:52   Log-Likelihood:            -1.9863e+05\n",
      "No. Observations:              327346   AIC:                         3.973e+05\n",
      "Df Residuals:                  327344   BIC:                         3.973e+05\n",
      "Df Model:                           1                                         \n",
      "Covariance Type:            nonrobust                                         \n",
      "==============================================================================\n",
      "                 coef    std err          t      P>|t|      [0.025      0.975]\n",
      "------------------------------------------------------------------------------\n",
      "Intercept      2.5903      0.005    507.447      0.000       2.580       2.600\n",
      "speed          0.6239      0.001    812.618      0.000       0.622       0.625\n",
      "==============================================================================\n",
      "Omnibus:                     5034.187   Durbin-Watson:                   1.607\n",
      "Prob(Omnibus):                  0.000   Jarque-Bera (JB):             3526.249\n",
      "Skew:                           0.144   Prob(JB):                         0.00\n",
      "Kurtosis:                       2.581   Cond. No.                         44.7\n",
      "==============================================================================\n",
      "\n",
      "Warnings:\n",
      "[1] Standard Errors assume that the covariance matrix of the errors is correctly specified.\n"
     ]
    },
    {
     "data": {
      "text/plain": [
       "[<matplotlib.lines.Line2D at 0x17d51c19a30>]"
      ]
     },
     "execution_count": 18,
     "metadata": {},
     "output_type": "execute_result"
    },
    {
     "data": {
      "image/png": "[encoded data removed]",
      "text/plain": [
       "<Figure size 432x288 with 1 Axes>"
      ]
     },
     "metadata": {
      "needs_background": "light"
     },
     "output_type": "display_data"
    }
   ],
   "source": [
    "# Your code here\n",
    "\n",
    "# Question: Is there a relationship between distance and speed?\n",
    "flights_df[\"speed\"] = flights_df[\"distance\"]/flights_df[\"air_time\"]\n",
    "m = smf.ols(\"np.log(distance) ~ speed\", data = flights_df).fit()\n",
    "print(m.summary())\n",
    "\n",
    "plt.scatter(np.log(flights_df.distance), flights_df.speed)\n",
    "x = np.linspace(4,9,1000)\n",
    "plt.plot(x, 2.5903 + 0.6239*x, color = \"orange\")\n"
   ]
  },
  {
   "cell_type": "markdown",
   "metadata": {},
   "source": [
    " -- Enter your discussion here --\n",
    " \n",
    " According to the summary table and plot, there seems a linear relationship between log(distance) and speed. Since R^2 is 0.669,it mean that 66.9% of variation in log(distacne) can be explained variation in speed."
   ]
  },
  {
   "cell_type": "markdown",
   "metadata": {},
   "source": [
    "## Question 6\n",
    "What weather conditions are associated with flight delays leaving NYC? Use graphics to explore."
   ]
  },
  {
   "cell_type": "code",
   "execution_count": 19,
   "metadata": {},
   "outputs": [
    {
     "data": {
      "text/html": [
       "<table class=\"simpletable\">\n",
       "<caption>OLS Regression Results</caption>\n",
       "<tr>\n",
       "  <th>Dep. Variable:</th>       <td>total_delay</td>   <th>  R-squared:         </th> <td>   0.003</td>\n",
       "</tr>\n",
       "<tr>\n",
       "  <th>Model:</th>                   <td>OLS</td>       <th>  Adj. R-squared:    </th> <td>   0.000</td>\n",
       "</tr>\n",
       "<tr>\n",
       "  <th>Method:</th>             <td>Least Squares</td>  <th>  F-statistic:       </th> <td>   1.016</td>\n",
       "</tr>\n",
       "<tr>\n",
       "  <th>Date:</th>             <td>Mon, 18 Jan 2021</td> <th>  Prob (F-statistic):</th>  <td> 0.314</td> \n",
       "</tr>\n",
       "<tr>\n",
       "  <th>Time:</th>                 <td>21:25:53</td>     <th>  Log-Likelihood:    </th> <td> -2057.1</td>\n",
       "</tr>\n",
       "<tr>\n",
       "  <th>No. Observations:</th>      <td>   360</td>      <th>  AIC:               </th> <td>   4118.</td>\n",
       "</tr>\n",
       "<tr>\n",
       "  <th>Df Residuals:</th>          <td>   358</td>      <th>  BIC:               </th> <td>   4126.</td>\n",
       "</tr>\n",
       "<tr>\n",
       "  <th>Df Model:</th>              <td>     1</td>      <th>                     </th>     <td> </td>   \n",
       "</tr>\n",
       "<tr>\n",
       "  <th>Covariance Type:</th>      <td>nonrobust</td>    <th>                     </th>     <td> </td>   \n",
       "</tr>\n",
       "</table>\n",
       "<table class=\"simpletable\">\n",
       "<tr>\n",
       "      <td></td>         <th>coef</th>     <th>std err</th>      <th>t</th>      <th>P>|t|</th>  <th>[0.025</th>    <th>0.975]</th>  \n",
       "</tr>\n",
       "<tr>\n",
       "  <th>Intercept</th> <td>   27.5030</td> <td>    4.192</td> <td>    6.561</td> <td> 0.000</td> <td>   19.259</td> <td>   35.747</td>\n",
       "</tr>\n",
       "<tr>\n",
       "  <th>PRCP</th>      <td>   17.7855</td> <td>   17.642</td> <td>    1.008</td> <td> 0.314</td> <td>  -16.909</td> <td>   52.480</td>\n",
       "</tr>\n",
       "</table>\n",
       "<table class=\"simpletable\">\n",
       "<tr>\n",
       "  <th>Omnibus:</th>       <td>304.276</td> <th>  Durbin-Watson:     </th> <td>   2.041</td>\n",
       "</tr>\n",
       "<tr>\n",
       "  <th>Prob(Omnibus):</th> <td> 0.000</td>  <th>  Jarque-Bera (JB):  </th> <td>5954.009</td>\n",
       "</tr>\n",
       "<tr>\n",
       "  <th>Skew:</th>          <td> 3.514</td>  <th>  Prob(JB):          </th> <td>    0.00</td>\n",
       "</tr>\n",
       "<tr>\n",
       "  <th>Kurtosis:</th>      <td>21.642</td>  <th>  Cond. No.          </th> <td>    4.59</td>\n",
       "</tr>\n",
       "</table><br/><br/>Warnings:<br/>[1] Standard Errors assume that the covariance matrix of the errors is correctly specified."
      ],
      "text/plain": [
       "<class 'statsmodels.iolib.summary.Summary'>\n",
       "\"\"\"\n",
       "                            OLS Regression Results                            \n",
       "==============================================================================\n",
       "Dep. Variable:            total_delay   R-squared:                       0.003\n",
       "Model:                            OLS   Adj. R-squared:                  0.000\n",
       "Method:                 Least Squares   F-statistic:                     1.016\n",
       "Date:                Mon, 18 Jan 2021   Prob (F-statistic):              0.314\n",
       "Time:                        21:25:53   Log-Likelihood:                -2057.1\n",
       "No. Observations:                 360   AIC:                             4118.\n",
       "Df Residuals:                     358   BIC:                             4126.\n",
       "Df Model:                           1                                         \n",
       "Covariance Type:            nonrobust                                         \n",
       "==============================================================================\n",
       "                 coef    std err          t      P>|t|      [0.025      0.975]\n",
       "------------------------------------------------------------------------------\n",
       "Intercept     27.5030      4.192      6.561      0.000      19.259      35.747\n",
       "PRCP          17.7855     17.642      1.008      0.314     -16.909      52.480\n",
       "==============================================================================\n",
       "Omnibus:                      304.276   Durbin-Watson:                   2.041\n",
       "Prob(Omnibus):                  0.000   Jarque-Bera (JB):             5954.009\n",
       "Skew:                           3.514   Prob(JB):                         0.00\n",
       "Kurtosis:                      21.642   Cond. No.                         4.59\n",
       "==============================================================================\n",
       "\n",
       "Warnings:\n",
       "[1] Standard Errors assume that the covariance matrix of the errors is correctly specified.\n",
       "\"\"\""
      ]
     },
     "execution_count": 19,
     "metadata": {},
     "output_type": "execute_result"
    },
    {
     "data": {
      "image/png": "[encoded data removed]",
      "text/plain": [
       "<Figure size 432x288 with 1 Axes>"
      ]
     },
     "metadata": {
      "needs_background": "light"
     },
     "output_type": "display_data"
    }
   ],
   "source": [
    "# Your code here\n",
    "\n",
    "# I will investigate the relationship between delay and PRCP\n",
    "weather = pd.read_csv('weather.csv')\n",
    "weather[\"year\"] = weather[\"DATE\"].str.slice(start = 0, stop = 4)\n",
    "weather = weather[weather[\"year\"] == \"2013\"]\n",
    "\n",
    "flights_df[\"total_delay\"] = flights_df[\"arr_delay\"] + flights_df[\"dep_delay\"]\n",
    "flights_df[\"date\"] = flights_df[\"month\"]*100 + flights_df[\"day\"]\n",
    "means = flights_df.groupby([\"date\"]).mean()\n",
    "fi_wt = pd.concat([flights_df, weather], axis = 1)\n",
    "\n",
    "plt.scatter(fi_wt.PRCP, fi_wt.total_delay)\n",
    "\n",
    "m = smf.ols(\"total_delay ~  PRCP\", data=fi_wt).fit()\n",
    "m.summary()"
   ]
  },
  {
   "cell_type": "markdown",
   "metadata": {},
   "source": [
    "-- From the chart and plot, there seems no relationship between PRCP and flight delays since R^2 is pretty small. --"
   ]
  }
 ],
 "metadata": {
  "kernelspec": {
   "display_name": "Python 3",
   "language": "python",
   "name": "python3"
  },
  "language_info": {
   "codemirror_mode": {
    "name": "ipython",
    "version": 3
   },
   "file_extension": ".py",
   "mimetype": "text/x-python",
   "name": "python",
   "nbconvert_exporter": "python",
   "pygments_lexer": "ipython3",
   "version": "3.8.3"
  }
 },
 "nbformat": 4,
 "nbformat_minor": 4
}
